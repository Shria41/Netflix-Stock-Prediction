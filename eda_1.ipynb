{
 "cells": [
  {
   "cell_type": "code",
   "execution_count": 22,
   "metadata": {},
   "outputs": [],
   "source": [
    "import numpy as np\n",
    "import pandas as pd\n",
    "import matplotlib.pylab as plt\n",
    "import seaborn as sns\n",
    "from sklearn import preprocessing"
   ]
  },
  {
   "cell_type": "code",
   "execution_count": 14,
   "metadata": {},
   "outputs": [
    {
     "name": "stdout",
     "output_type": "stream",
     "text": [
      "(5044, 7)\n",
      "Index(['Date', 'Open', 'High', 'Low', 'Close', 'Adj Close', 'Volume'], dtype='object')\n",
      "         Date      Open      High       Low     Close  Adj Close     Volume\n",
      "0  2002-05-23  1.156429  1.242857  1.145714  1.196429   1.196429  104790000\n",
      "1  2002-05-24  1.214286  1.225000  1.197143  1.210000   1.210000   11104800\n",
      "2  2002-05-28  1.213571  1.232143  1.157143  1.157143   1.157143    6609400\n",
      "3  2002-05-29  1.164286  1.164286  1.085714  1.103571   1.103571    6757800\n",
      "4  2002-05-30  1.107857  1.107857  1.071429  1.071429   1.071429   10154200\n"
     ]
    }
   ],
   "source": [
    "df=pd.read_csv('C:/Users/sanji/pes/sem5/da/project/NFLX.csv')\n",
    "print(df.shape)\n",
    "print(df.columns)\n",
    "print(df.head())\n"
   ]
  },
  {
   "cell_type": "markdown",
   "metadata": {},
   "source": [
    "There are 5044 rows and 7 columns that are Date, Open, High, Low, Close, Adj Close, Volume"
   ]
  },
  {
   "cell_type": "code",
   "execution_count": 15,
   "metadata": {},
   "outputs": [
    {
     "name": "stdout",
     "output_type": "stream",
     "text": [
      "<class 'pandas.core.frame.DataFrame'>\n",
      "RangeIndex: 5044 entries, 0 to 5043\n",
      "Data columns (total 7 columns):\n",
      " #   Column     Non-Null Count  Dtype  \n",
      "---  ------     --------------  -----  \n",
      " 0   Date       5044 non-null   object \n",
      " 1   Open       5044 non-null   float64\n",
      " 2   High       5044 non-null   float64\n",
      " 3   Low        5044 non-null   float64\n",
      " 4   Close      5044 non-null   float64\n",
      " 5   Adj Close  5044 non-null   float64\n",
      " 6   Volume     5044 non-null   int64  \n",
      "dtypes: float64(5), int64(1), object(1)\n",
      "memory usage: 276.0+ KB\n"
     ]
    }
   ],
   "source": [
    "df.info()"
   ]
  },
  {
   "cell_type": "markdown",
   "metadata": {},
   "source": [
    "There are no NULL values in any of the columns. The datatype of data is object and can be changed to the datatime datatype for easier extraction of year,month and date"
   ]
  },
  {
   "cell_type": "code",
   "execution_count": 5,
   "metadata": {},
   "outputs": [
    {
     "name": "stdout",
     "output_type": "stream",
     "text": [
      "<class 'pandas.core.frame.DataFrame'>\n",
      "RangeIndex: 5044 entries, 0 to 5043\n",
      "Data columns (total 7 columns):\n",
      " #   Column     Non-Null Count  Dtype         \n",
      "---  ------     --------------  -----         \n",
      " 0   Date       5044 non-null   datetime64[ns]\n",
      " 1   Open       5044 non-null   float64       \n",
      " 2   High       5044 non-null   float64       \n",
      " 3   Low        5044 non-null   float64       \n",
      " 4   Close      5044 non-null   float64       \n",
      " 5   Adj Close  5044 non-null   float64       \n",
      " 6   Volume     5044 non-null   int64         \n",
      "dtypes: datetime64[ns](1), float64(5), int64(1)\n",
      "memory usage: 276.0 KB\n"
     ]
    }
   ],
   "source": []
  },
  {
   "cell_type": "code",
   "execution_count": 16,
   "metadata": {
    "scrolled": true
   },
   "outputs": [
    {
     "data": {
      "text/html": [
       "<div>\n",
       "<style scoped>\n",
       "    .dataframe tbody tr th:only-of-type {\n",
       "        vertical-align: middle;\n",
       "    }\n",
       "\n",
       "    .dataframe tbody tr th {\n",
       "        vertical-align: top;\n",
       "    }\n",
       "\n",
       "    .dataframe thead th {\n",
       "        text-align: right;\n",
       "    }\n",
       "</style>\n",
       "<table border=\"1\" class=\"dataframe\">\n",
       "  <thead>\n",
       "    <tr style=\"text-align: right;\">\n",
       "      <th></th>\n",
       "      <th>Open</th>\n",
       "      <th>High</th>\n",
       "      <th>Low</th>\n",
       "      <th>Close</th>\n",
       "      <th>Adj Close</th>\n",
       "      <th>Volume</th>\n",
       "    </tr>\n",
       "  </thead>\n",
       "  <tbody>\n",
       "    <tr>\n",
       "      <th>count</th>\n",
       "      <td>5044.000000</td>\n",
       "      <td>5044.000000</td>\n",
       "      <td>5044.000000</td>\n",
       "      <td>5044.000000</td>\n",
       "      <td>5044.000000</td>\n",
       "      <td>5.044000e+03</td>\n",
       "    </tr>\n",
       "    <tr>\n",
       "      <th>mean</th>\n",
       "      <td>116.467981</td>\n",
       "      <td>118.237392</td>\n",
       "      <td>114.578719</td>\n",
       "      <td>116.456338</td>\n",
       "      <td>116.456338</td>\n",
       "      <td>1.653068e+07</td>\n",
       "    </tr>\n",
       "    <tr>\n",
       "      <th>std</th>\n",
       "      <td>168.740876</td>\n",
       "      <td>171.140864</td>\n",
       "      <td>166.119837</td>\n",
       "      <td>168.668232</td>\n",
       "      <td>168.668232</td>\n",
       "      <td>1.924487e+07</td>\n",
       "    </tr>\n",
       "    <tr>\n",
       "      <th>min</th>\n",
       "      <td>0.377857</td>\n",
       "      <td>0.410714</td>\n",
       "      <td>0.346429</td>\n",
       "      <td>0.372857</td>\n",
       "      <td>0.372857</td>\n",
       "      <td>2.856000e+05</td>\n",
       "    </tr>\n",
       "    <tr>\n",
       "      <th>25%</th>\n",
       "      <td>3.955357</td>\n",
       "      <td>4.031072</td>\n",
       "      <td>3.885357</td>\n",
       "      <td>3.958571</td>\n",
       "      <td>3.958571</td>\n",
       "      <td>6.168225e+06</td>\n",
       "    </tr>\n",
       "    <tr>\n",
       "      <th>50%</th>\n",
       "      <td>25.819285</td>\n",
       "      <td>26.342143</td>\n",
       "      <td>25.455000</td>\n",
       "      <td>25.802857</td>\n",
       "      <td>25.802857</td>\n",
       "      <td>1.059135e+07</td>\n",
       "    </tr>\n",
       "    <tr>\n",
       "      <th>75%</th>\n",
       "      <td>155.762497</td>\n",
       "      <td>157.654998</td>\n",
       "      <td>153.944996</td>\n",
       "      <td>155.869999</td>\n",
       "      <td>155.869999</td>\n",
       "      <td>1.986552e+07</td>\n",
       "    </tr>\n",
       "    <tr>\n",
       "      <th>max</th>\n",
       "      <td>692.349976</td>\n",
       "      <td>700.989990</td>\n",
       "      <td>686.090027</td>\n",
       "      <td>691.690002</td>\n",
       "      <td>691.690002</td>\n",
       "      <td>3.234140e+08</td>\n",
       "    </tr>\n",
       "  </tbody>\n",
       "</table>\n",
       "</div>"
      ],
      "text/plain": [
       "              Open         High          Low        Close    Adj Close  \\\n",
       "count  5044.000000  5044.000000  5044.000000  5044.000000  5044.000000   \n",
       "mean    116.467981   118.237392   114.578719   116.456338   116.456338   \n",
       "std     168.740876   171.140864   166.119837   168.668232   168.668232   \n",
       "min       0.377857     0.410714     0.346429     0.372857     0.372857   \n",
       "25%       3.955357     4.031072     3.885357     3.958571     3.958571   \n",
       "50%      25.819285    26.342143    25.455000    25.802857    25.802857   \n",
       "75%     155.762497   157.654998   153.944996   155.869999   155.869999   \n",
       "max     692.349976   700.989990   686.090027   691.690002   691.690002   \n",
       "\n",
       "             Volume  \n",
       "count  5.044000e+03  \n",
       "mean   1.653068e+07  \n",
       "std    1.924487e+07  \n",
       "min    2.856000e+05  \n",
       "25%    6.168225e+06  \n",
       "50%    1.059135e+07  \n",
       "75%    1.986552e+07  \n",
       "max    3.234140e+08  "
      ]
     },
     "execution_count": 16,
     "metadata": {},
     "output_type": "execute_result"
    }
   ],
   "source": [
    "df.describe()"
   ]
  },
  {
   "cell_type": "markdown",
   "metadata": {},
   "source": [
    "The mean is greater than median in all columns so it is right skewed(positive)\n",
    "We can see that the range of the columns is also very high as min and max values are very far apart\n",
    "The standard deviation is also very high for all the columns which means it has a high spread \n",
    "It can also be noticed that all columns except Date and Volume have nearly same range and spread"
   ]
  },
  {
   "cell_type": "code",
   "execution_count": 17,
   "metadata": {},
   "outputs": [
    {
     "data": {
      "image/png": "[encoded data removed]",
      "text/plain": [
       "<Figure size 432x288 with 1 Axes>"
      ]
     },
     "metadata": {
      "needs_background": "light"
     },
     "output_type": "display_data"
    },
    {
     "data": {
      "image/png": "[encoded data removed]",
      "text/plain": [
       "<Figure size 432x288 with 1 Axes>"
      ]
     },
     "metadata": {
      "needs_background": "light"
     },
     "output_type": "display_data"
    },
    {
     "data": {
      "image/png": "[encoded data removed]",
      "text/plain": [
       "<Figure size 432x288 with 1 Axes>"
      ]
     },
     "metadata": {
      "needs_background": "light"
     },
     "output_type": "display_data"
    },
    {
     "data": {
      "image/png": "[encoded data removed]",
      "text/plain": [
       "<Figure size 432x288 with 1 Axes>"
      ]
     },
     "metadata": {
      "needs_background": "light"
     },
     "output_type": "display_data"
    },
    {
     "data": {
      "image/png": "[encoded data removed]",
      "text/plain": [
       "<Figure size 432x288 with 1 Axes>"
      ]
     },
     "metadata": {
      "needs_background": "light"
     },
     "output_type": "display_data"
    },
    {
     "data": {
      "image/png": "[encoded data removed]",
      "text/plain": [
       "<Figure size 432x288 with 1 Axes>"
      ]
     },
     "metadata": {
      "needs_background": "light"
     },
     "output_type": "display_data"
    }
   ],
   "source": [
    "plt.hist(df['Open'],15)\n",
    "plt.show()\n",
    "plt.hist(df['Close'],15)\n",
    "plt.show()\n",
    "plt.hist(df['Adj Close'],15)\n",
    "plt.show()\n",
    "plt.hist(df['Volume'],15)\n",
    "plt.show()\n",
    "plt.hist(df['High'],15)\n",
    "plt.show()\n",
    "plt.hist(df['Low'],15)\n",
    "plt.show()"
   ]
  },
  {
   "cell_type": "markdown",
   "metadata": {},
   "source": [
    "It can be noticed from the histograms that all the columns are right skewed"
   ]
  },
  {
   "cell_type": "code",
   "execution_count": 18,
   "metadata": {},
   "outputs": [
    {
     "data": {
      "image/png": "[encoded data removed]",
      "text/plain": [
       "<Figure size 432x288 with 1 Axes>"
      ]
     },
     "metadata": {
      "needs_background": "light"
     },
     "output_type": "display_data"
    },
    {
     "data": {
      "image/png": "[encoded data removed]",
      "text/plain": [
       "<Figure size 432x288 with 1 Axes>"
      ]
     },
     "metadata": {
      "needs_background": "light"
     },
     "output_type": "display_data"
    },
    {
     "data": {
      "image/png": "[encoded data removed]",
      "text/plain": [
       "<Figure size 432x288 with 1 Axes>"
      ]
     },
     "metadata": {
      "needs_background": "light"
     },
     "output_type": "display_data"
    },
    {
     "data": {
      "image/png": "[encoded data removed]",
      "text/plain": [
       "<Figure size 432x288 with 1 Axes>"
      ]
     },
     "metadata": {
      "needs_background": "light"
     },
     "output_type": "display_data"
    },
    {
     "data": {
      "image/png": "[encoded data removed]",
      "text/plain": [
       "<Figure size 432x288 with 1 Axes>"
      ]
     },
     "metadata": {
      "needs_background": "light"
     },
     "output_type": "display_data"
    },
    {
     "data": {
      "text/plain": [
       "<matplotlib.axes._subplots.AxesSubplot at 0x192616efe80>"
      ]
     },
     "execution_count": 18,
     "metadata": {},
     "output_type": "execute_result"
    },
    {
     "data": {
      "image/png": "[encoded data removed]",
      "text/plain": [
       "<Figure size 432x288 with 1 Axes>"
      ]
     },
     "metadata": {
      "needs_background": "light"
     },
     "output_type": "display_data"
    }
   ],
   "source": [
    "df['Open'].plot.box(grid='True')\n",
    "plt.show()\n",
    "df['Close'].plot.box(grid='True')\n",
    "plt.show()\n",
    "df['Low'].plot.box(grid='True')\n",
    "plt.show()\n",
    "df['High'].plot.box(grid='True')\n",
    "plt.show()\n",
    "df['Adj Close'].plot.box(grid='True')\n",
    "plt.show()\n",
    "df['Volume'].plot.box(grid='True')"
   ]
  },
  {
   "cell_type": "code",
   "execution_count": 19,
   "metadata": {
    "scrolled": true
   },
   "outputs": [
    {
     "name": "stdout",
     "output_type": "stream",
     "text": [
      "Open\n",
      "number of outliers:502\n",
      "max outlier value: 692.349976\n",
      "min outlier value: 383.589996\n",
      "\n",
      "Close\n",
      "number of outliers:501\n",
      "max outlier value: 691.6900019999999\n",
      "min outlier value: 383.790009\n",
      "\n",
      "High\n",
      "number of outliers:504\n",
      "max outlier value: 700.98999\n",
      "min outlier value: 389.22000099999997\n",
      "\n",
      "Low\n",
      "number of outliers:491\n",
      "max outlier value: 686.090027\n",
      "min outlier value: 379.190002\n",
      "\n",
      "Adj Close\n",
      "number of outliers:501\n",
      "max outlier value: 691.6900019999999\n",
      "min outlier value: 383.790009\n",
      "\n",
      "Volume\n",
      "number of outliers:336\n",
      "max outlier value: 323414000\n",
      "min outlier value: 40432000\n",
      "\n"
     ]
    }
   ],
   "source": [
    "def find_outliers_IQR(df):\n",
    "   q1=df.quantile(0.25)\n",
    "   q3=df.quantile(0.75)\n",
    "   IQR=q3-q1\n",
    "   outliers = df[((df<(q1-1.5*IQR)) | (df>(q3+1.5*IQR)))]\n",
    "   return outliers\n",
    "def res(out):\n",
    "    print(\"number of outliers:\"+ str(len(outliers)))\n",
    "    print(\"max outlier value: \"+ str(outliers.max()))\n",
    "    print(\"min outlier value: \"+ str(outliers.min()))\n",
    "    print()\n",
    "print(\"Open\")\n",
    "outliers = find_outliers_IQR(df['Open'])\n",
    "res(outliers)\n",
    "print(\"Close\")\n",
    "outliers = find_outliers_IQR(df['Close'])\n",
    "res(outliers)\n",
    "print(\"High\")\n",
    "outliers = find_outliers_IQR(df['High'])\n",
    "res(outliers)\n",
    "print(\"Low\")\n",
    "outliers = find_outliers_IQR(df['Low'])\n",
    "res(outliers)\n",
    "print(\"Adj Close\")\n",
    "outliers = find_outliers_IQR(df['Adj Close'])\n",
    "res(outliers)\n",
    "print(\"Volume\")\n",
    "outliers = find_outliers_IQR(df['Volume'])\n",
    "res(outliers)\n"
   ]
  },
  {
   "cell_type": "markdown",
   "metadata": {},
   "source": [
    "As we can see from both boxplot and the statistical formula, each column has a large number of outliers. Considering this is a \n",
    "stock prediction dataset, the outliers are significantly important\n",
    "to the dataset and shouldn't be dropped or replaced\n"
   ]
  },
  {
   "cell_type": "code",
   "execution_count": 1,
   "metadata": {},
   "outputs": [
    {
     "ename": "NameError",
     "evalue": "name 'df' is not defined",
     "output_type": "error",
     "traceback": [
      "\u001b[1;31m---------------------------------------------------------------------------\u001b[0m",
      "\u001b[1;31mNameError\u001b[0m                                 Traceback (most recent call last)",
      "\u001b[1;32m<ipython-input-1-6ab28c98f89e>\u001b[0m in \u001b[0;36m<module>\u001b[1;34m\u001b[0m\n\u001b[1;32m----> 1\u001b[1;33m \u001b[0mtemp_df\u001b[0m\u001b[1;33m=\u001b[0m\u001b[0mdf\u001b[0m\u001b[1;33m.\u001b[0m\u001b[0mloc\u001b[0m\u001b[1;33m[\u001b[0m\u001b[1;33m:\u001b[0m\u001b[1;33m,\u001b[0m \u001b[0mdf\u001b[0m\u001b[1;33m.\u001b[0m\u001b[0mcolumns\u001b[0m\u001b[1;33m!=\u001b[0m\u001b[1;34m'Date'\u001b[0m\u001b[1;33m]\u001b[0m\u001b[1;33m\u001b[0m\u001b[1;33m\u001b[0m\u001b[0m\n\u001b[0m\u001b[0;32m      2\u001b[0m \u001b[0msns\u001b[0m\u001b[1;33m.\u001b[0m\u001b[0mheatmap\u001b[0m\u001b[1;33m(\u001b[0m\u001b[0mcorr\u001b[0m\u001b[1;33m,\u001b[0m \u001b[0mxticklabels\u001b[0m\u001b[1;33m=\u001b[0m\u001b[0mcorr\u001b[0m\u001b[1;33m.\u001b[0m\u001b[0mcolumns\u001b[0m\u001b[1;33m,\u001b[0m \u001b[0myticklabels\u001b[0m\u001b[1;33m=\u001b[0m\u001b[0mcorr\u001b[0m\u001b[1;33m.\u001b[0m\u001b[0mcolumns\u001b[0m\u001b[1;33m,\u001b[0m \u001b[0mannot\u001b[0m\u001b[1;33m=\u001b[0m\u001b[1;32mTrue\u001b[0m\u001b[1;33m,\u001b[0m \u001b[0mcmap\u001b[0m\u001b[1;33m=\u001b[0m\u001b[0msns\u001b[0m\u001b[1;33m.\u001b[0m\u001b[0mdiverging_palette\u001b[0m\u001b[1;33m(\u001b[0m\u001b[1;36m220\u001b[0m\u001b[1;33m,\u001b[0m \u001b[1;36m20\u001b[0m\u001b[1;33m,\u001b[0m \u001b[0mas_cmap\u001b[0m\u001b[1;33m=\u001b[0m\u001b[1;32mTrue\u001b[0m\u001b[1;33m)\u001b[0m\u001b[1;33m)\u001b[0m\u001b[1;33m\u001b[0m\u001b[1;33m\u001b[0m\u001b[0m\n",
      "\u001b[1;31mNameError\u001b[0m: name 'df' is not defined"
     ]
    }
   ],
   "source": [
    "temp_df=df.loc[:, df.columns!='Date']\n",
    "sns.heatmap(corr, xticklabels=corr.columns, yticklabels=corr.columns, annot=True, cmap=sns.diverging_palette(220, 20, as_cmap=True))"
   ]
  },
  {
   "cell_type": "code",
   "execution_count": 25,
   "metadata": {},
   "outputs": [
    {
     "data": {
      "text/html": [
       "<div>\n",
       "<style scoped>\n",
       "    .dataframe tbody tr th:only-of-type {\n",
       "        vertical-align: middle;\n",
       "    }\n",
       "\n",
       "    .dataframe tbody tr th {\n",
       "        vertical-align: top;\n",
       "    }\n",
       "\n",
       "    .dataframe thead th {\n",
       "        text-align: right;\n",
       "    }\n",
       "</style>\n",
       "<table border=\"1\" class=\"dataframe\">\n",
       "  <thead>\n",
       "    <tr style=\"text-align: right;\">\n",
       "      <th></th>\n",
       "      <th>Open</th>\n",
       "      <th>High</th>\n",
       "      <th>Low</th>\n",
       "      <th>Close</th>\n",
       "      <th>Adj Close</th>\n",
       "      <th>Volume</th>\n",
       "    </tr>\n",
       "  </thead>\n",
       "  <tbody>\n",
       "    <tr>\n",
       "      <th>0</th>\n",
       "      <td>0.001670</td>\n",
       "      <td>0.001773</td>\n",
       "      <td>0.001670</td>\n",
       "      <td>0.001730</td>\n",
       "      <td>0.001730</td>\n",
       "      <td>0.324012</td>\n",
       "    </tr>\n",
       "    <tr>\n",
       "      <th>1</th>\n",
       "      <td>0.001754</td>\n",
       "      <td>0.001748</td>\n",
       "      <td>0.001745</td>\n",
       "      <td>0.001749</td>\n",
       "      <td>0.001749</td>\n",
       "      <td>0.034336</td>\n",
       "    </tr>\n",
       "    <tr>\n",
       "      <th>2</th>\n",
       "      <td>0.001753</td>\n",
       "      <td>0.001758</td>\n",
       "      <td>0.001687</td>\n",
       "      <td>0.001673</td>\n",
       "      <td>0.001673</td>\n",
       "      <td>0.020436</td>\n",
       "    </tr>\n",
       "    <tr>\n",
       "      <th>3</th>\n",
       "      <td>0.001682</td>\n",
       "      <td>0.001661</td>\n",
       "      <td>0.001582</td>\n",
       "      <td>0.001595</td>\n",
       "      <td>0.001595</td>\n",
       "      <td>0.020895</td>\n",
       "    </tr>\n",
       "    <tr>\n",
       "      <th>4</th>\n",
       "      <td>0.001600</td>\n",
       "      <td>0.001580</td>\n",
       "      <td>0.001562</td>\n",
       "      <td>0.001549</td>\n",
       "      <td>0.001549</td>\n",
       "      <td>0.031397</td>\n",
       "    </tr>\n",
       "    <tr>\n",
       "      <th>...</th>\n",
       "      <td>...</td>\n",
       "      <td>...</td>\n",
       "      <td>...</td>\n",
       "      <td>...</td>\n",
       "      <td>...</td>\n",
       "      <td>...</td>\n",
       "    </tr>\n",
       "    <tr>\n",
       "      <th>5039</th>\n",
       "      <td>0.279035</td>\n",
       "      <td>0.278535</td>\n",
       "      <td>0.277471</td>\n",
       "      <td>0.282193</td>\n",
       "      <td>0.282193</td>\n",
       "      <td>0.026548</td>\n",
       "    </tr>\n",
       "    <tr>\n",
       "      <th>5040</th>\n",
       "      <td>0.283354</td>\n",
       "      <td>0.285239</td>\n",
       "      <td>0.278098</td>\n",
       "      <td>0.285446</td>\n",
       "      <td>0.285446</td>\n",
       "      <td>0.035244</td>\n",
       "    </tr>\n",
       "    <tr>\n",
       "      <th>5041</th>\n",
       "      <td>0.286994</td>\n",
       "      <td>0.289220</td>\n",
       "      <td>0.279351</td>\n",
       "      <td>0.278897</td>\n",
       "      <td>0.278897</td>\n",
       "      <td>0.026023</td>\n",
       "    </tr>\n",
       "    <tr>\n",
       "      <th>5042</th>\n",
       "      <td>0.277345</td>\n",
       "      <td>0.293114</td>\n",
       "      <td>0.279439</td>\n",
       "      <td>0.296506</td>\n",
       "      <td>0.296506</td>\n",
       "      <td>0.029755</td>\n",
       "    </tr>\n",
       "    <tr>\n",
       "      <th>5043</th>\n",
       "      <td>0.289073</td>\n",
       "      <td>0.289519</td>\n",
       "      <td>0.288665</td>\n",
       "      <td>0.287672</td>\n",
       "      <td>0.287672</td>\n",
       "      <td>0.022206</td>\n",
       "    </tr>\n",
       "  </tbody>\n",
       "</table>\n",
       "<p>5044 rows × 6 columns</p>\n",
       "</div>"
      ],
      "text/plain": [
       "          Open      High       Low     Close  Adj Close    Volume\n",
       "0     0.001670  0.001773  0.001670  0.001730   0.001730  0.324012\n",
       "1     0.001754  0.001748  0.001745  0.001749   0.001749  0.034336\n",
       "2     0.001753  0.001758  0.001687  0.001673   0.001673  0.020436\n",
       "3     0.001682  0.001661  0.001582  0.001595   0.001595  0.020895\n",
       "4     0.001600  0.001580  0.001562  0.001549   0.001549  0.031397\n",
       "...        ...       ...       ...       ...        ...       ...\n",
       "5039  0.279035  0.278535  0.277471  0.282193   0.282193  0.026548\n",
       "5040  0.283354  0.285239  0.278098  0.285446   0.285446  0.035244\n",
       "5041  0.286994  0.289220  0.279351  0.278897   0.278897  0.026023\n",
       "5042  0.277345  0.293114  0.279439  0.296506   0.296506  0.029755\n",
       "5043  0.289073  0.289519  0.288665  0.287672   0.287672  0.022206\n",
       "\n",
       "[5044 rows x 6 columns]"
      ]
     },
     "metadata": {},
     "output_type": "display_data"
    }
   ],
   "source": [
    "df_normalised = temp_df.copy()\n",
    "# apply normalization techniques\n",
    "for column in df_normalised.columns:\n",
    "    df_normalised[column] = df_normalised[column]/df_normalised[column].abs().max()\n",
    "display(df_normalised)"
   ]
  },
  {
   "cell_type": "code",
   "execution_count": null,
   "metadata": {},
   "outputs": [],
   "source": []
  }
 ],
 "metadata": {
  "kernelspec": {
   "display_name": "Python 3",
   "language": "python",
   "name": "python3"
  },
  "language_info": {
   "codemirror_mode": {
    "name": "ipython",
    "version": 3
   },
   "file_extension": ".py",
   "mimetype": "text/x-python",
   "name": "python",
   "nbconvert_exporter": "python",
   "pygments_lexer": "ipython3",
   "version": "3.8.3"
  }
 },
 "nbformat": 4,
 "nbformat_minor": 4
}
